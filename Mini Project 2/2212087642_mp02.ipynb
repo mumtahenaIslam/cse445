{
 "cells": [
  {
   "cell_type": "markdown",
   "id": "64fc7d44",
   "metadata": {},
   "source": [
    "Mini Project 02 [Ohid Reza 2212087642 | Group T]"
   ]
  },
  {
   "cell_type": "code",
   "execution_count": null,
   "id": "3a03cd81",
   "metadata": {},
   "outputs": [],
   "source": [
    "#libraries\n",
    "import pandas as pd\n",
    "import numpy as np\n",
    "import matplotlib.pyplot as plt\n",
    "import seaborn as sns\n",
    "\n",
    "#ml libraries\n",
    "from scipy.stats import skew, kurtosis, zscore\n",
    "from sklearn.preprocessing import StandardScaler, MinMaxScaler\n",
    "from sklearn.model_selection import train_test_split, GridSearchCV\n",
    "from sklearn.neural_network import MLPClassifier\n",
    "from sklearn.ensemble import RandomForestClassifier\n",
    "from xgboost import XGBClassifier\n",
    "from sklearn.metrics import confusion_matrix, ConfusionMatrixDisplay, classification_report\n",
    "from imblearn.over_sampling import SMOTE"
   ]
  },
  {
   "cell_type": "code",
   "execution_count": null,
   "id": "b8d5379b",
   "metadata": {},
   "outputs": [],
   "source": [
    "data = pd.read_csv(\"data.csv\")\n",
    "data.head()"
   ]
  },
  {
   "cell_type": "markdown",
   "id": "31f0162c",
   "metadata": {},
   "source": [
    "Manual Labeling"
   ]
  },
  {
   "cell_type": "code",
   "execution_count": null,
   "id": "28a6ddf6",
   "metadata": {},
   "outputs": [],
   "source": [
    "#[logic]\n",
    "#label: 1 if accuracy >= 95 and avg_reac_time <= 200, else 0\n",
    "data['manual_label'] = data.apply(\n",
    "    lambda row: 1 if row['accuracy'] >= 95 and row['avg_reac_time'] <= 200 else 0,\n",
    "    axis=1\n",
    ")\n",
    "data.head()"
   ]
  },
  {
   "cell_type": "code",
   "execution_count": null,
   "id": "5a0ad2b7",
   "metadata": {},
   "outputs": [],
   "source": [
    "#label distribution\n",
    "print(\"Label Distribution:\")\n",
    "print(data['manual_label'].value_counts())"
   ]
  },
  {
   "cell_type": "markdown",
   "id": "ddedb386",
   "metadata": {},
   "source": [
    "Statistical Features"
   ]
  },
  {
   "cell_type": "code",
   "execution_count": null,
   "id": "cbccab05",
   "metadata": {},
   "outputs": [],
   "source": [
    "#summary\n",
    "print(data.describe())\n",
    "\n",
    "#skewness and kurtosis\n",
    "print(\"\\nSkewness of Accuracy:\", skew(data['accuracy']))\n",
    "print(\"Skewness of Reaction Time:\", skew(data['avg_reac_time']))\n",
    "print(\"\\nKurtosis of Accuracy:\", kurtosis(data['accuracy']))\n",
    "print(\"Kurtosis of Reaction Time:\", kurtosis(data['avg_reac_time']))\n"
   ]
  },
  {
   "cell_type": "code",
   "execution_count": null,
   "id": "5363fe95",
   "metadata": {},
   "outputs": [],
   "source": [
    "#z scores\n",
    "data['accuracy_zscore'] = zscore(data['accuracy'])\n",
    "data['reac_time_zscore'] = zscore(data['avg_reac_time'])\n",
    "\n",
    "#normalization\n",
    "scaler_norm = MinMaxScaler()\n",
    "data[['accuracy_normalized', 'avg_reac_time_normalized']] = scaler_norm.fit_transform(\n",
    "    data[['accuracy', 'avg_reac_time']]\n",
    ")\n",
    "\n",
    "#Performance Ratio\n",
    "data['performance_ratio'] = data['accuracy'] / data['avg_reac_time']\n",
    "\n",
    "#entropy of accuracy\n",
    "epsilon = 1e-10\n",
    "prob_accuracy = data['accuracy_normalized'] / data['accuracy_normalized'].sum()\n",
    "data['accuracy_entropy'] = -prob_accuracy * np.log2(prob_accuracy + epsilon)\n",
    "print(\"Total Accuracy Entropy:\", data['accuracy_entropy'].sum())\n",
    "\n",
    "#scaling\n",
    "scaler_std = StandardScaler()\n",
    "data[['accuracy_scaled', 'avg_reac_time_scaled']] = scaler_std.fit_transform(\n",
    "    data[['accuracy', 'avg_reac_time']]\n",
    ")\n",
    "\n",
    "data.head()"
   ]
  },
  {
   "cell_type": "markdown",
   "id": "61fd4191",
   "metadata": {},
   "source": [
    "Train Test Split and Imbalance Handaling"
   ]
  },
  {
   "cell_type": "code",
   "execution_count": null,
   "id": "59f79c6e",
   "metadata": {},
   "outputs": [],
   "source": [
    "X_raw = data[['accuracy', 'avg_reac_time', 'performance_ratio']]\n",
    "X_scaled = data[['accuracy_scaled', 'avg_reac_time_scaled', 'accuracy_zscore', 'reac_time_zscore', 'performance_ratio']]\n",
    "y = data['manual_label']\n",
    "\n",
    "X_train_raw, X_test_raw, y_train_raw, y_test = train_test_split(X_raw, y, test_size=0.3, random_state=42)\n",
    "X_train_scaled, X_test_scaled, y_train_scaled, _ = train_test_split(X_scaled, y, test_size=0.3, random_state=42)\n",
    "\n",
    "#imbalance handaling with smote\n",
    "sm = SMOTE(random_state=42)\n",
    "X_train_raw, y_train_raw = sm.fit_resample(X_train_raw, y_train_raw)\n",
    "X_train_scaled, y_train_scaled = sm.fit_resample(X_train_scaled, y_train_scaled)"
   ]
  },
  {
   "cell_type": "markdown",
   "id": "1948f3d2",
   "metadata": {},
   "source": [
    "Neural Network"
   ]
  },
  {
   "cell_type": "code",
   "execution_count": null,
   "id": "b09c81b2",
   "metadata": {},
   "outputs": [],
   "source": [
    "param_grid_nn = {\n",
    "    'hidden_layer_sizes': [(10,), (20,), (10, 10)],\n",
    "    'activation': ['relu', 'tanh'],\n",
    "    'alpha': [0.0001, 0.001]\n",
    "}\n",
    "\n",
    "grid_nn = GridSearchCV(MLPClassifier(max_iter=1500, random_state=42), param_grid_nn, cv=3)\n",
    "grid_nn.fit(X_train_scaled, y_train_scaled)\n",
    "print(\"Best NN Parameters:\", grid_nn.best_params_)\n",
    "\n",
    "y_p_nn = grid_nn.predict(X_test_scaled)"
   ]
  },
  {
   "cell_type": "code",
   "execution_count": null,
   "id": "5ba18ede",
   "metadata": {},
   "outputs": [],
   "source": [
    "cm_nn = confusion_matrix(y_test, y_p_nn)\n",
    "ConfusionMatrixDisplay(cm_nn).plot()\n",
    "plt.title(\"Neural Network Confusion Matrix\")\n",
    "plt.savefig(\"nn_confusion_matrix.png\")\n",
    "plt.show()"
   ]
  },
  {
   "cell_type": "code",
   "execution_count": null,
   "id": "7acd223d",
   "metadata": {},
   "outputs": [],
   "source": [
    "print(classification_report(y_test, y_p_nn))"
   ]
  },
  {
   "cell_type": "markdown",
   "id": "637476bb",
   "metadata": {},
   "source": [
    "Random Forest"
   ]
  },
  {
   "cell_type": "code",
   "execution_count": null,
   "id": "66462509",
   "metadata": {},
   "outputs": [],
   "source": [
    "param_rf = {\n",
    "    'n_estimators': [50, 100, 200],\n",
    "    'max_depth': [None, 10, 20],\n",
    "}\n",
    "grid_rf = GridSearchCV(RandomForestClassifier(random_state=42), param_rf, cv=3)\n",
    "grid_rf.fit(X_train_raw, y_train_raw)\n",
    "print(\"Best RF Parameters:\", grid_rf.best_params_)\n",
    "\n",
    "y_p_rf = grid_rf.predict(X_test_raw)\n"
   ]
  },
  {
   "cell_type": "code",
   "execution_count": null,
   "id": "af28349f",
   "metadata": {},
   "outputs": [],
   "source": [
    "cm_rf = confusion_matrix(y_test, y_p_rf)\n",
    "ConfusionMatrixDisplay(cm_rf).plot()\n",
    "plt.title(\"Random Forest Confusion Matrix\")\n",
    "plt.savefig(\"rf_confusion_matrix.png\")\n",
    "plt.show()"
   ]
  },
  {
   "cell_type": "code",
   "execution_count": null,
   "id": "1bbafc0e",
   "metadata": {},
   "outputs": [],
   "source": [
    "print(classification_report(y_test, y_p_rf))"
   ]
  },
  {
   "cell_type": "code",
   "execution_count": null,
   "id": "a63ce597",
   "metadata": {},
   "outputs": [],
   "source": [
    "importances_rf = grid_rf.best_estimator_.feature_importances_\n",
    "plt.barh(X_raw.columns, importances_rf, color='teal')\n",
    "plt.title(\"Random Forest Feature Importance\")\n",
    "plt.xlabel(\"Importance Score\")\n",
    "plt.show()"
   ]
  },
  {
   "cell_type": "markdown",
   "id": "bcd88707",
   "metadata": {},
   "source": [
    "XGBoost"
   ]
  },
  {
   "cell_type": "code",
   "execution_count": null,
   "id": "498c0c78",
   "metadata": {},
   "outputs": [],
   "source": [
    "param_xgb = {\n",
    "    'n_estimators': [50, 100],\n",
    "    'max_depth': [3, 5, 7],\n",
    "    'learning_rate': [0.01, 0.1, 0.2]\n",
    "}\n",
    "\n",
    "grid_xgb = GridSearchCV(XGBClassifier(eval_metric='logloss', random_state=42), param_xgb, cv=3)\n",
    "grid_xgb.fit(X_train_raw, y_train_raw)\n",
    "print(\"Best XGB Parameters:\", grid_xgb.best_params_)\n",
    "\n",
    "y_p_xgb = grid_xgb.predict(X_test_raw)"
   ]
  },
  {
   "cell_type": "code",
   "execution_count": null,
   "id": "27a40fdc",
   "metadata": {},
   "outputs": [],
   "source": [
    "cm_xgb = confusion_matrix(y_test, y_p_xgb)\n",
    "ConfusionMatrixDisplay(cm_xgb).plot()\n",
    "plt.title(\"XGBoost Confusion Matrix\")\n",
    "plt.savefig(\"xgb_confusion_matrix.png\")\n",
    "plt.show()"
   ]
  },
  {
   "cell_type": "code",
   "execution_count": null,
   "id": "9c102977",
   "metadata": {},
   "outputs": [],
   "source": [
    "\n",
    "print(classification_report(y_test, y_p_xgb))"
   ]
  },
  {
   "cell_type": "code",
   "execution_count": null,
   "id": "e57222a5",
   "metadata": {},
   "outputs": [],
   "source": [
    "importances_xgb = grid_xgb.best_estimator_.feature_importances_\n",
    "plt.barh(X_raw.columns, importances_xgb, color='darkorange')\n",
    "plt.title(\"XGBoost Feature Importance\")\n",
    "plt.xlabel(\"Importance Score\")\n",
    "plt.show()"
   ]
  },
  {
   "cell_type": "markdown",
   "id": "4682ffd9",
   "metadata": {},
   "source": [
    "Final Data"
   ]
  },
  {
   "cell_type": "code",
   "execution_count": null,
   "id": "194589cc",
   "metadata": {},
   "outputs": [],
   "source": [
    "data.to_csv(\"data_final.csv\", index=False)\n",
    "print(\"saved as data_final.csv\")"
   ]
  }
 ],
 "metadata": {
  "kernelspec": {
   "display_name": "base",
   "language": "python",
   "name": "python3"
  },
  "language_info": {
   "codemirror_mode": {
    "name": "ipython",
    "version": 3
   },
   "file_extension": ".py",
   "mimetype": "text/x-python",
   "name": "python",
   "nbconvert_exporter": "python",
   "pygments_lexer": "ipython3",
   "version": "3.12.7"
  }
 },
 "nbformat": 4,
 "nbformat_minor": 5
}
